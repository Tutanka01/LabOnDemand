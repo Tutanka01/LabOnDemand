{
 "cells": [
  {
   "cell_type": "markdown",
   "id": "073d8051",
   "metadata": {},
   "source": [
    "# Notebook de smoke tests et automatisations\n",
    "Ce notebook automatise:\n",
    "- la résolution non-interactive des ports (backend/ui/jupyter/vscode),\n",
    "- l’uniformisation du wording « Application » (codemod contrôlé),\n",
    "- la journalisation structurée,\n",
    "- un smoke test API pour les templates avec tags."
   ]
  },
  {
   "cell_type": "code",
   "execution_count": null,
   "id": "d8216303",
   "metadata": {},
   "outputs": [],
   "source": [
    "# 1) Importer les dépendances\n",
    "import os, sys, json, re, socket, logging, hashlib\n",
    "from pathlib import Path\n",
    "from dataclasses import dataclass\n",
    "import argparse\n",
    "try:\n",
    "    import requests\n",
    "except ImportError:\n",
    "    raise SystemExit(\"Veuillez installer requests (pip install requests)\")\n",
    "# Seed logging de base\n",
    "logging.basicConfig(level=logging.INFO, format='[%(levelname)s] %(message)s')\n",
    "ROOT = Path(__file__).resolve().parents[2] if '__file__' in globals() else Path.cwd().parents[0]"
   ]
  },
  {
   "cell_type": "code",
   "execution_count": null,
   "id": "c52e8f10",
   "metadata": {},
   "outputs": [],
   "source": [
    "# 2) Modèle de configuration (Pydantic‑like minimal via dataclass) et valeurs par défaut\n",
    "@dataclass\n",
    "class Config:\n",
    "    api_port: int = int(os.getenv('PORT_API', '8000'))\n",
    "    ui_port: int = int(os.getenv('PORT_UI', '3000'))\n",
    "    jupyter_port: int = int(os.getenv('JUPYTER_PORT', '8888'))\n",
    "    vscode_port: int = int(os.getenv('VSCODE_PORT', '8080'))\n",
    "    strict_ports: bool = bool(int(os.getenv('STRICT_PORTS', '0')))\n",
    "CFG = Config()\n",
    "CFG"
   ]
  },
  {
   "cell_type": "code",
   "execution_count": null,
   "id": "39a461e2",
   "metadata": {},
   "outputs": [],
   "source": [
    "# 3) Backend base URL et session avec cookies\n",
    "BASE_URL = os.getenv('BASE_URL', 'http://localhost:8000')\n",
    "AUTH_LOGIN = f\"{BASE_URL}/api/v1/auth/login\"\n",
    "AUTH_ME = f\"{BASE_URL}/api/v1/auth/me\"\n",
    "STATUS = f\"{BASE_URL}/api/v1/status\"\n",
    "HEALTH = f\"{BASE_URL}/api/v1/health\"\n",
    "TPL_BASE = f\"{BASE_URL}/api/v1/k8s/templates\"\n",
    "s = requests.Session()\n",
    "s.headers.update({'Content-Type': 'application/json'})\n",
    "BASE_URL"
   ]
  },
  {
   "cell_type": "code",
   "execution_count": null,
   "id": "b1056a2e",
   "metadata": {},
   "outputs": [],
   "source": [
    "# 4) Helpers HTTP\n",
    "def jprint(title, data):\n",
    "    print(f\"\\n=== {title} ===\")\n",
    "    print(json.dumps(data, indent=2, ensure_ascii=False))\n",
    "\n",
    "def assert_status(resp, code=200):\n",
    "    assert resp.status_code == code, f\"HTTP {resp.status_code}: {resp.text}\"\n",
    "    try:\n",
    "        return resp.json()\n",
    "    except Exception:\n",
    "        return {}\n",
    "\n",
    "def login(username='admin', password='admin123'):\n",
    "    payload = {\"username\": username, \"password\": password}\n",
    "    r = s.post(AUTH_LOGIN, data=json.dumps(payload))\n",
    "    data = assert_status(r, 200)\n",
    "    # Session cookie devrait être posé par le backend\n",
    "    # On vérifie /me pour confirmer\n",
    "    r_me = s.get(AUTH_ME)\n",
    "    assert r_me.status_code == 200, f\"Login ko: {r_me.text}\"\n",
    "    return data"
   ]
  },
  {
   "cell_type": "code",
   "execution_count": null,
   "id": "9fc0bdb7",
   "metadata": {},
   "outputs": [],
   "source": [
    "# 5) Smoke tests: status/health + login\n",
    "print(\"BASE_URL:\", BASE_URL)\n",
    "r = s.get(STATUS)\n",
    "status_json = assert_status(r, 200)\n",
    "jprint(\"/status\", status_json)\n",
    "r = s.get(HEALTH)\n",
    "health_json = assert_status(r, 200)\n",
    "jprint(\"/health\", health_json)\n",
    "login_data = login()\n",
    "jprint(\"login\", login_data)"
   ]
  },
  {
   "cell_type": "code",
   "execution_count": null,
   "id": "6d544035",
   "metadata": {},
   "outputs": [],
   "source": [
    "# 6) CRUD Templates avec tags\n",
    "import random\n",
    "suffix = str(random.randint(1000, 9999))\n",
    "tpl_payload = {\n",
    "    \"key\": f\"demo-{suffix}\",\n",
    "    \"name\": f\"Démo {suffix}\",\n",
    "    \"description\": \"Template de test créé par smoke test\",\n",
    "    \"icon\": \"🧪\",\n",
    "    \"deployment_type\": \"custom\",\n",
    "    \"default_image\": \"nginx:alpine\",\n",
    "    \"default_port\": 8080,\n",
    "    \"default_service_type\": \"NodePort\",\n",
    "    \"active\": True,\n",
    "    \"tags\": [\"demo\", \"test\", \"smoke\"]\n",
    "}\n",
    "r = s.post(TPL_BASE, data=json.dumps(tpl_payload))\n",
    "created = assert_status(r, 200)\n",
    "tpl_id = created.get(\"id\")\n",
    "assert tpl_id, f\"Pas d'id retourné: {created}\"\n",
    "jprint(\"template créé\", created)\n",
    "\n",
    "# GET all (admin)\n",
    "r = s.get(f\"{TPL_BASE}/all\")\n",
    "all_tpl = assert_status(r, 200)\n",
    "assert any(t[\"id\"] == tpl_id for t in all_tpl), \"Template nouvellement créé introuvable dans /templates/all\"\n",
    "print(f\"Total templates: {len(all_tpl)}\")\n",
    "\n",
    "# PUT: modifier tags\n",
    "new_tags = [\"demo\", \"updated\", suffix]\n",
    "r = s.put(f\"{TPL_BASE}/{tpl_id}\", data=json.dumps({\"tags\": new_tags}))\n",
    "updated = assert_status(r, 200)\n",
    "assert updated[\"tags\"] == new_tags, f\"Tags non mis à jour: {updated['tags']}\"\n",
    "jprint(\"template mis à jour\", updated)\n",
    "\n",
    "# DELETE\n",
    "r = s.delete(f\"{TPL_BASE}/{tpl_id}\")\n",
    "assert_status(r, 200)\n",
    "print(\"Suppression OK\")"
   ]
  },
  {
   "cell_type": "markdown",
   "id": "4723b942",
   "metadata": {},
   "source": [
    "### Notes\n",
    "- Ce notebook suppose un backend en local: BASE_URL=http://localhost:8000.\n",
    "- Identifiants par défaut: admin/admin123 (créés au démarrage si nécessaires).\n",
    "- Les templates sont étendus avec `tags` (liste), utilisés ici pour valider le CRUD complet.\n",
    "- Les ports par défaut pour vscode/jupyter sont auto-résolus côté backend (pas testés ici)."
   ]
  }
 ],
 "metadata": {
  "language_info": {
   "name": "python"
  }
 },
 "nbformat": 4,
 "nbformat_minor": 5
}
